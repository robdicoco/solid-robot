{
  "nbformat": 4,
  "nbformat_minor": 0,
  "metadata": {
    "colab": {
      "provenance": [],
      "toc_visible": true,
      "include_colab_link": true
    },
    "kernelspec": {
      "name": "python3",
      "display_name": "Python 3"
    },
    "language_info": {
      "name": "python"
    }
  },
  "cells": [
    {
      "cell_type": "markdown",
      "metadata": {
        "id": "view-in-github",
        "colab_type": "text"
      },
      "source": [
        "<a href=\"https://colab.research.google.com/github/robdicoco/solid-robot/blob/main/Google_agent_sample.ipynb\" target=\"_parent\"><img src=\"https://colab.research.google.com/assets/colab-badge.svg\" alt=\"Open In Colab\"/></a>"
      ]
    },
    {
      "cell_type": "markdown",
      "source": [],
      "metadata": {
        "id": "x5q88iyGwen_"
      }
    },
    {
      "cell_type": "code",
      "source": [
        "# Install Google GenAI library\n",
        "%pip -q install google-genai\n",
        "\n"
      ],
      "metadata": {
        "id": "UCCbECexLk_h"
      },
      "execution_count": 1,
      "outputs": []
    },
    {
      "cell_type": "code",
      "source": [
        "# Configure the Google Gemini API Key\n",
        "\n",
        "import os\n",
        "from google.colab import userdata\n",
        "\n",
        "os.environ[\"GOOGLE_API_KEY\"] = userdata.get('Gemini_API')"
      ],
      "metadata": {
        "id": "NfCqHo1tLk8P"
      },
      "execution_count": 2,
      "outputs": []
    },
    {
      "cell_type": "code",
      "source": [
        "# Configure the Gemini SDK client\n",
        "\n",
        "from google import genai\n",
        "\n",
        "client = genai.Client()\n",
        "\n",
        "MODEL_ID = \"gemini-2.0-flash\""
      ],
      "metadata": {
        "id": "bV4w0H5TLk5g"
      },
      "execution_count": 3,
      "outputs": []
    },
    {
      "cell_type": "code",
      "source": [
        "# Ask Gemini for information more recent than its knowledge base\n",
        "\n",
        "from IPython.display import HTML, Markdown\n",
        "\n",
        "#  Ask the model about the next AI immersion ###\n",
        "response = client.models.generate_content(\n",
        "    model=MODEL_ID,\n",
        "    contents='When will be the next imersion of Google Gemini from Alura?'\n",
        ")\n",
        "\n",
        "\n",
        "# Display the answer on the screen\n",
        "display(Markdown(f\"Response :\\n {response.text}\"))"
      ],
      "metadata": {
        "id": "HwVP7Xi34Zuw",
        "colab": {
          "base_uri": "https://localhost:8080/",
          "height": 198
        },
        "outputId": "63c5631c-76f9-4a8d-ec92-10aa647805cb"
      },
      "execution_count": 4,
      "outputs": [
        {
          "output_type": "display_data",
          "data": {
            "text/plain": [
              "<IPython.core.display.Markdown object>"
            ],
            "text/markdown": "Response :\n I don't have access to a real-time, up-to-the-minute course schedule for Alura. Alura's course offerings change frequently.\n\nThe best way to find out about the next \"Google Gemini Immersion\" course from Alura is to check directly on their website:\n\n*   **Alura's Website:** Go to [https://www.alura.com.br/](https://www.alura.com.br/) and search for \"Google Gemini\" or \"Gemini\".  Look for upcoming courses or learning paths.\n\n*   **Alura's Course Calendar:** Look for a course calendar or schedule on their site to see when new courses are being offered.\n\n*   **Alura's Social Media:** Follow Alura on social media (LinkedIn, Twitter, etc.) to get announcements about new courses.\n\n*   **Contact Alura Directly:** If you can't find the information online, contact Alura's customer support and ask them directly about upcoming Google Gemini immersion courses.\n"
          },
          "metadata": {}
        }
      ]
    },
    {
      "cell_type": "code",
      "source": [
        "# Ask Gemini for information using Google Search as context\n",
        "\n",
        "\n",
        "response = client.models.generate_content(\n",
        "    model=MODEL_ID,\n",
        "    contents='When will be the next imersion of Google Gemini from Alura?',\n",
        "    config = {\"tools\": [{\"google_search\": {}}]}\n",
        ")\n",
        "\n",
        "# Display the response\n",
        "display(Markdown(f\"Response:\\n {response.text}\"))"
      ],
      "metadata": {
        "id": "yXaZd7iZ4ftw",
        "colab": {
          "base_uri": "https://localhost:8080/",
          "height": 122
        },
        "outputId": "fac765f7-4295-4ffd-8b2d-046dad33f976"
      },
      "execution_count": 5,
      "outputs": [
        {
          "output_type": "display_data",
          "data": {
            "text/plain": [
              "<IPython.core.display.Markdown object>"
            ],
            "text/markdown": "Response:\n I am unable to find information regarding the next \"immersion of Google Gemini from Alura.\" However, I can share some information regarding Google Gemini and Alura:\n\n*   Alura offered a free \"AI Agents Immersion using Google Gemini\" course that took place May 12th to 16th, 2025.\n*   Google's Gemini 2.0 is available in the Gemini app.\n*   Alura is a platform that offers online courses and training in technology and digital skills.\n\n"
          },
          "metadata": {}
        }
      ]
    },
    {
      "cell_type": "code",
      "source": [
        "# Display the search query\n",
        "print(f\"Search performed: {response.candidates[0].grounding_metadata.web_search_queries}\")\n",
        "# Display the URLs used as basis for the response\n",
        "print(f\"Pages used in the response: {', '.join([site.web.title for site in response.candidates[0].grounding_metadata.grounding_chunks])}\")\n",
        "print()\n",
        "display(HTML(response.candidates[0].grounding_metadata.search_entry_point.rendered_content))"
      ],
      "metadata": {
        "id": "xHSNlTd84heJ",
        "colab": {
          "base_uri": "https://localhost:8080/",
          "height": 117
        },
        "outputId": "e3799ce4-43af-42c0-9fc4-13c7dff92a43"
      },
      "execution_count": 6,
      "outputs": [
        {
          "output_type": "stream",
          "name": "stdout",
          "text": [
            "Search performed: ['Alura Google Gemini immersion next date']\n",
            "Pages used in the response: reddit.com, blog.google\n",
            "\n"
          ]
        },
        {
          "output_type": "display_data",
          "data": {
            "text/plain": [
              "<IPython.core.display.HTML object>"
            ],
            "text/html": [
              "<style>\n",
              ".container {\n",
              "  align-items: center;\n",
              "  border-radius: 8px;\n",
              "  display: flex;\n",
              "  font-family: Google Sans, Roboto, sans-serif;\n",
              "  font-size: 14px;\n",
              "  line-height: 20px;\n",
              "  padding: 8px 12px;\n",
              "}\n",
              ".chip {\n",
              "  display: inline-block;\n",
              "  border: solid 1px;\n",
              "  border-radius: 16px;\n",
              "  min-width: 14px;\n",
              "  padding: 5px 16px;\n",
              "  text-align: center;\n",
              "  user-select: none;\n",
              "  margin: 0 8px;\n",
              "  -webkit-tap-highlight-color: transparent;\n",
              "}\n",
              ".carousel {\n",
              "  overflow: auto;\n",
              "  scrollbar-width: none;\n",
              "  white-space: nowrap;\n",
              "  margin-right: -12px;\n",
              "}\n",
              ".headline {\n",
              "  display: flex;\n",
              "  margin-right: 4px;\n",
              "}\n",
              ".gradient-container {\n",
              "  position: relative;\n",
              "}\n",
              ".gradient {\n",
              "  position: absolute;\n",
              "  transform: translate(3px, -9px);\n",
              "  height: 36px;\n",
              "  width: 9px;\n",
              "}\n",
              "@media (prefers-color-scheme: light) {\n",
              "  .container {\n",
              "    background-color: #fafafa;\n",
              "    box-shadow: 0 0 0 1px #0000000f;\n",
              "  }\n",
              "  .headline-label {\n",
              "    color: #1f1f1f;\n",
              "  }\n",
              "  .chip {\n",
              "    background-color: #ffffff;\n",
              "    border-color: #d2d2d2;\n",
              "    color: #5e5e5e;\n",
              "    text-decoration: none;\n",
              "  }\n",
              "  .chip:hover {\n",
              "    background-color: #f2f2f2;\n",
              "  }\n",
              "  .chip:focus {\n",
              "    background-color: #f2f2f2;\n",
              "  }\n",
              "  .chip:active {\n",
              "    background-color: #d8d8d8;\n",
              "    border-color: #b6b6b6;\n",
              "  }\n",
              "  .logo-dark {\n",
              "    display: none;\n",
              "  }\n",
              "  .gradient {\n",
              "    background: linear-gradient(90deg, #fafafa 15%, #fafafa00 100%);\n",
              "  }\n",
              "}\n",
              "@media (prefers-color-scheme: dark) {\n",
              "  .container {\n",
              "    background-color: #1f1f1f;\n",
              "    box-shadow: 0 0 0 1px #ffffff26;\n",
              "  }\n",
              "  .headline-label {\n",
              "    color: #fff;\n",
              "  }\n",
              "  .chip {\n",
              "    background-color: #2c2c2c;\n",
              "    border-color: #3c4043;\n",
              "    color: #fff;\n",
              "    text-decoration: none;\n",
              "  }\n",
              "  .chip:hover {\n",
              "    background-color: #353536;\n",
              "  }\n",
              "  .chip:focus {\n",
              "    background-color: #353536;\n",
              "  }\n",
              "  .chip:active {\n",
              "    background-color: #464849;\n",
              "    border-color: #53575b;\n",
              "  }\n",
              "  .logo-light {\n",
              "    display: none;\n",
              "  }\n",
              "  .gradient {\n",
              "    background: linear-gradient(90deg, #1f1f1f 15%, #1f1f1f00 100%);\n",
              "  }\n",
              "}\n",
              "</style>\n",
              "<div class=\"container\">\n",
              "  <div class=\"headline\">\n",
              "    <svg class=\"logo-light\" width=\"18\" height=\"18\" viewBox=\"9 9 35 35\" fill=\"none\" xmlns=\"http://www.w3.org/2000/svg\">\n",
              "      <path fill-rule=\"evenodd\" clip-rule=\"evenodd\" d=\"M42.8622 27.0064C42.8622 25.7839 42.7525 24.6084 42.5487 23.4799H26.3109V30.1568H35.5897C35.1821 32.3041 33.9596 34.1222 32.1258 35.3448V39.6864H37.7213C40.9814 36.677 42.8622 32.2571 42.8622 27.0064V27.0064Z\" fill=\"#4285F4\"/>\n",
              "      <path fill-rule=\"evenodd\" clip-rule=\"evenodd\" d=\"M26.3109 43.8555C30.9659 43.8555 34.8687 42.3195 37.7213 39.6863L32.1258 35.3447C30.5898 36.3792 28.6306 37.0061 26.3109 37.0061C21.8282 37.0061 18.0195 33.9811 16.6559 29.906H10.9194V34.3573C13.7563 39.9841 19.5712 43.8555 26.3109 43.8555V43.8555Z\" fill=\"#34A853\"/>\n",
              "      <path fill-rule=\"evenodd\" clip-rule=\"evenodd\" d=\"M16.6559 29.8904C16.3111 28.8559 16.1074 27.7588 16.1074 26.6146C16.1074 25.4704 16.3111 24.3733 16.6559 23.3388V18.8875H10.9194C9.74388 21.2072 9.06992 23.8247 9.06992 26.6146C9.06992 29.4045 9.74388 32.022 10.9194 34.3417L15.3864 30.8621L16.6559 29.8904V29.8904Z\" fill=\"#FBBC05\"/>\n",
              "      <path fill-rule=\"evenodd\" clip-rule=\"evenodd\" d=\"M26.3109 16.2386C28.85 16.2386 31.107 17.1164 32.9095 18.8091L37.8466 13.8719C34.853 11.082 30.9659 9.3736 26.3109 9.3736C19.5712 9.3736 13.7563 13.245 10.9194 18.8875L16.6559 23.3388C18.0195 19.2636 21.8282 16.2386 26.3109 16.2386V16.2386Z\" fill=\"#EA4335\"/>\n",
              "    </svg>\n",
              "    <svg class=\"logo-dark\" width=\"18\" height=\"18\" viewBox=\"0 0 48 48\" xmlns=\"http://www.w3.org/2000/svg\">\n",
              "      <circle cx=\"24\" cy=\"23\" fill=\"#FFF\" r=\"22\"/>\n",
              "      <path d=\"M33.76 34.26c2.75-2.56 4.49-6.37 4.49-11.26 0-.89-.08-1.84-.29-3H24.01v5.99h8.03c-.4 2.02-1.5 3.56-3.07 4.56v.75l3.91 2.97h.88z\" fill=\"#4285F4\"/>\n",
              "      <path d=\"M15.58 25.77A8.845 8.845 0 0 0 24 31.86c1.92 0 3.62-.46 4.97-1.31l4.79 3.71C31.14 36.7 27.65 38 24 38c-5.93 0-11.01-3.4-13.45-8.36l.17-1.01 4.06-2.85h.8z\" fill=\"#34A853\"/>\n",
              "      <path d=\"M15.59 20.21a8.864 8.864 0 0 0 0 5.58l-5.03 3.86c-.98-2-1.53-4.25-1.53-6.64 0-2.39.55-4.64 1.53-6.64l1-.22 3.81 2.98.22 1.08z\" fill=\"#FBBC05\"/>\n",
              "      <path d=\"M24 14.14c2.11 0 4.02.75 5.52 1.98l4.36-4.36C31.22 9.43 27.81 8 24 8c-5.93 0-11.01 3.4-13.45 8.36l5.03 3.85A8.86 8.86 0 0 1 24 14.14z\" fill=\"#EA4335\"/>\n",
              "    </svg>\n",
              "    <div class=\"gradient-container\"><div class=\"gradient\"></div></div>\n",
              "  </div>\n",
              "  <div class=\"carousel\">\n",
              "    <a class=\"chip\" href=\"https://vertexaisearch.cloud.google.com/grounding-api-redirect/AbF9wXGmBVkMUKvXyd64cLdxBrhq496rdoPZOJUNh-8vErD3neINLMfNryE4ee-Z0zBwYX6kDOmuAHiXrsB0qvctgeazAYGO0khKFAoam6ecDRnd5GHzHD1HTjIZinnnH1h20QdjRUZEg9U_qjtw7e8O3MOtrpgPDZhaTR3Bh-0egnFryRdEOMax3E4DBp8njwNFMZna9zoeMRKGNDY3SalBKrrggLFY5S_i9XGIKw==\">Alura Google Gemini immersion next date</a>\n",
              "  </div>\n",
              "</div>\n"
            ]
          },
          "metadata": {}
        }
      ]
    },
    {
      "cell_type": "code",
      "source": [
        "# Install Google ADK Agents Framework #\n",
        "%pip install -q google-adk\n"
      ],
      "metadata": {
        "id": "hvZ3UnPI4jhJ"
      },
      "execution_count": 7,
      "outputs": []
    },
    {
      "cell_type": "code",
      "execution_count": 8,
      "metadata": {
        "id": "aePV2bdfDeoW"
      },
      "outputs": [],
      "source": [
        "from google.adk.agents import Agent\n",
        "from google.adk.runners import Runner\n",
        "from google.adk.sessions import InMemorySessionService\n",
        "from google.adk.tools import google_search\n",
        "from google.genai import types  # To create content (Content and Part)\n",
        "from datetime import date\n",
        "import textwrap # To better format text output\n",
        "from IPython.display import display, Markdown  # To make HTTP requests\n",
        "import warnings\n",
        "\n",
        "warnings.filterwarnings(\"ignore\")"
      ]
    },
    {
      "cell_type": "code",
      "source": [
        "# Helper function that sends a message to an agent via Runner and returns the final response\n",
        "def call_agent(agent: Agent, message_text: str) -> str:\n",
        "    # Creates an in-memory session service\n",
        "    session_service = InMemorySessionService()\n",
        "    # Creates a new session (you can customize IDs as needed)\n",
        "    session = session_service.create_session(app_name=agent.name, user_id=\"user1\", session_id=\"session1\")\n",
        "    # Creates a Runner for the agent\n",
        "    runner = Runner(agent=agent, app_name=agent.name, session_service=session_service)\n",
        "    # Creates the input message content\n",
        "    content = types.Content(role=\"user\", parts=[types.Part(text=message_text)])\n",
        "\n",
        "    final_response = \"\"\n",
        "    # Asynchronously iterates through the events returned during agent execution\n",
        "    for event in runner.run(user_id=\"user1\", session_id=\"session1\", new_message=content):\n",
        "        if event.is_final_response():\n",
        "          for part in event.content.parts:\n",
        "            if part.text is not None:\n",
        "              final_response += part.text\n",
        "              final_response += \"\\n\"\n",
        "    return final_response"
      ],
      "metadata": {
        "id": "_xP4lWhsS5ko"
      },
      "execution_count": 9,
      "outputs": []
    },
    {
      "cell_type": "code",
      "source": [
        "# Helper function to display formatted text in Markdown in Colab\n",
        "def to_markdown(text):\n",
        "  text = text.replace('•', '  *')\n",
        "  return Markdown(textwrap.indent(text, '> ', predicate=lambda _: True))"
      ],
      "metadata": {
        "id": "8dosiodaxfFR"
      },
      "execution_count": 10,
      "outputs": []
    },
    {
      "cell_type": "code",
      "source": [
        "##########################################\n",
        "# --- Agent 1: News Finder           --- #\n",
        "##########################################\n",
        "def agent_news_finder(topic, today_date):\n",
        "    news_finder = Agent(\n",
        "        name=\"agent_news_finder\",\n",
        "        model=\"gemini-2.0-flash\",\n",
        "        instruction=\"\"\"\n",
        "          You are a news research expert.\n",
        "          Your task is to find up to three of the most recent and highly relevant news articles on the given topic using (google_search).\n",
        "          Focus on finding reputable news sources published within the last week.\n",
        "          If the initial topic yields few results, try one closely related alternative.\n",
        "          Present the findings as a bulleted list with the title and a brief summary of each article.\n",
        "        \"\"\",\n",
        "        description=\"Agent that searches for news on a given topic.\",\n",
        "        tools=[google_search]\n",
        "    )\n",
        "\n",
        "    input_agent_news_finder = f\"Topic: {topic}\\nCurrent date: {today_date}\"\n",
        "    # Execute the agent\n",
        "    news_found = call_agent(news_finder, input_agent_news_finder)\n",
        "    return news_found\n",
        "\n"
      ],
      "metadata": {
        "id": "BxuPTVA-sBEK"
      },
      "execution_count": 11,
      "outputs": []
    },
    {
      "cell_type": "code",
      "source": [
        "################################################\n",
        "# --- Agent 2: Post Planner                --- #\n",
        "################################################\n",
        "def agent_post_planner(topic, news_found):\n",
        "    agent_planner = Agent(\n",
        "        name=\"agent_post_planner\",\n",
        "        model=\"gemini-2.0-flash\",\n",
        "        instruction=\"\"\"\n",
        "            You are a post planner expert in social network.\n",
        "            Your task is to create a post plan for Instagram based on the news found.\n",
        "            You can use (google_search) to cleate a plan about the most important topics.\n",
        "            You can use (google_search) for further refine the post on the most relevant tópics\n",
        "           in the end, you will choose the most relevant topic among all of them, based on your\n",
        "           research and return to this topic, its most relevant points, and the plan with the\n",
        "           subjects to be addressed in the post that will be written there later.\n",
        "        \"\"\",\n",
        "        description=\"Agent that plans post\",\n",
        "        tools=[google_search]\n",
        "    )\n",
        "\n",
        "\n",
        "    input_agent_planner = f\"Topic: {topic}\\nNews found: {news_found}\"\n",
        "    # Execute the agent\n",
        "    post_plan = call_agent(agent_planner, input_agent_planner)\n",
        "    return post_plan\n"
      ],
      "metadata": {
        "id": "y3VO1uo5_ghO"
      },
      "execution_count": 12,
      "outputs": []
    },
    {
      "cell_type": "code",
      "source": [
        "\n",
        "######################################\n",
        "# --- Agent 3: Post Writer       --- #\n",
        "######################################\n",
        "def agent_writer(topic, post_plan):\n",
        "    writer = Agent(\n",
        "        name=\"agent_writer\",\n",
        "        model=\"gemini-2.0-flash\",\n",
        "        instruction=\"\"\"\n",
        "            You are a Creative Writer specializing in creating viral posts for social media.\n",
        "            You write posts for RobDC a Web3 developer, with MSc in Biomedical Engineering, BSc. in Systems Analysis, Mechatronics Tech.\n",
        "            Use the theme provided in the post plan and the most relevant points provided and, based on that,\n",
        "            write a draft Instagram post on the indicated topic.\n",
        "            The post should be engaging, informative, use simple language, and include 2 to 5 hashtags at the end.\n",
        "            \"\"\",\n",
        "        description=\"Agent writer of engaging posts for Instagram\"\n",
        "    )\n",
        "\n",
        "    input_agent_writer = f\"Topic: {topic}\\nPost plan: {post_plan}\"\n",
        "    # Execute the agent\n",
        "    draft = call_agent(writer, input_agent_writer)\n",
        "    return draft\n"
      ],
      "metadata": {
        "id": "uOqlg2TRLVh1"
      },
      "execution_count": 13,
      "outputs": []
    },
    {
      "cell_type": "code",
      "source": [
        "##########################################\n",
        "# --- Agent 4:     Quality Reviewer --- #\n",
        "##########################################\n",
        "def agent_reviewer(topic, draft_information):\n",
        "    reviewer = Agent(\n",
        "        name=\"agent_reviewer\",\n",
        "        model=\"gemini-2.0-flash\",\n",
        "        instruction=\"\"\"\n",
        "            You are a meticulous Content Editor and Reviewer, specializing in social media posts, with a focus on Instagram.\n",
        "            Since you have a young audience, between 18 and 30 years old, use an appropriate writing tone.\n",
        "            Review the Instagram post draft below on the indicated topic, checking for clarity, conciseness, correctness, and tone.\n",
        "            If the draft is good, reply only 'The draft is great and ready to publish!'.\n",
        "            If there are problems, point them out and suggest improvements.\n",
        "            \"\"\",\n",
        "        description=\"Agent reviewer of social media posts\"\n",
        "    )\n",
        "\n",
        "    input_agent_reviewer = f\"Topic: {topic}\\nDraft: {draft_information}\"\n",
        "    # Execute the agent\n",
        "    reviewed_text = call_agent(reviewer, input_agent_reviewer)\n",
        "    return reviewed_text\n",
        ""
      ],
      "metadata": {
        "id": "_aTb1SdkLeT6"
      },
      "execution_count": 14,
      "outputs": []
    },
    {
      "cell_type": "code",
      "source": [
        "today_date = date.today().strftime(\"%d/%m/%Y\")\n",
        "\n",
        "print(\"🚀 Starting the Instagram Post Creation System with 4 Agents 🚀🚀🚀\")\n",
        "\n",
        "# --- Get Topic from User ---\n",
        "topic = input(\"❓ Please enter the TOPIC you want to create the trend post about: \")\n",
        "\n",
        "# Insert agent system logic ################################################\n",
        "\n",
        "if not topic:\n",
        "    print(\"❌ Topic cannot be empty. Please try again.\")\n",
        "else:\n",
        "    print(f\"🔍 Searching for news on the topic: {topic}...\")\n",
        "    news_found = agent_news_finder(topic, today_date)\n",
        "    display(\"📝 News found:\\n\", to_markdown(news_found))\n",
        "\n",
        "    print(\"📋 Creating post plan...\")\n",
        "    post_plan = agent_post_planner(topic, news_found)\n",
        "    display(\"📋 Post plan:\\n\", to_markdown(post_plan))\n",
        "\n",
        "    print(\"✍️ Writing post draft...\")\n",
        "    draft = agent_writer(topic, post_plan)\n",
        "    display(\"✍️ Post draft:\\n\", to_markdown(draft))\n",
        "\n",
        "    print(\"🔍 Reviewing post draft...\")\n",
        "    reviewed_text = agent_reviewer(topic, draft)\n",
        "    display(\"🔍 Reviewed post:\\n\", to_markdown(reviewed_text))\n"
      ],
      "metadata": {
        "id": "630ummxz4myx",
        "colab": {
          "base_uri": "https://localhost:8080/",
          "height": 1000
        },
        "outputId": "bc515fd3-9196-439f-fcca-1960060afa51"
      },
      "execution_count": 16,
      "outputs": [
        {
          "output_type": "stream",
          "name": "stdout",
          "text": [
            "🚀 Starting the Instagram Post Creation System with 4 Agents 🚀🚀🚀\n",
            "❓ Please enter the TOPIC you want to create the trend post about: torradas\n",
            "🔍 Searching for news on the topic: torradas...\n"
          ]
        },
        {
          "output_type": "display_data",
          "data": {
            "text/plain": [
              "'📝 News found:\\n'"
            ],
            "application/vnd.google.colaboratory.intrinsic+json": {
              "type": "string"
            }
          },
          "metadata": {}
        },
        {
          "output_type": "display_data",
          "data": {
            "text/plain": [
              "<IPython.core.display.Markdown object>"
            ],
            "text/markdown": "> Okay, I'll find some recent news articles about \"torradas\".\n> \n> \n> The search results seem to be mentioning \"Torradas\" as a name, rather than the food item \"toast/torrada\". However, there is one article related to a Carnival celebration in Ibiza that mentions \"torradas\". Here's a summary of that article:\n> \n> *   **Torradas And Chirigotas Spice Up Ibiza's Carnival Celebration**: This article discusses the Carnival celebration in Ibiza, which includes \"torradas\" and chirigotas. The Ibiza Town Hall invested approximately 50,000 euros in the Carnival of 2024, which included a children's costume contest and free \"tortilla\" for 700 people. The Carnival parade was inclusive, with reserved seating for senior citizens and people with special needs.\n"
          },
          "metadata": {}
        },
        {
          "output_type": "stream",
          "name": "stdout",
          "text": [
            "📋 Creating post plan...\n"
          ]
        },
        {
          "output_type": "display_data",
          "data": {
            "text/plain": [
              "'📋 Post plan:\\n'"
            ],
            "application/vnd.google.colaboratory.intrinsic+json": {
              "type": "string"
            }
          },
          "metadata": {}
        },
        {
          "output_type": "display_data",
          "data": {
            "text/plain": [
              "<IPython.core.display.Markdown object>"
            ],
            "text/markdown": "> Okay, I will create an Instagram post plan based on the Carnival celebration in Ibiza that includes \"torradas.\"\n> \n> Okay, here's an Instagram post plan focusing on the Carnival celebration in Ibiza, incorporating the \"torradas\" element:\n> \n> **Main Topic:** Ibiza Carnival Celebration, featuring \"Torradas\"\n> \n> **Why this topic?**\n> \n> *   It connects to the user's initial search term (\"torradas\").\n> *   Carnival celebrations are visually appealing and culturally rich.\n> *   Ibiza's Carnival has unique traditions like the \"mariol·los\" costumes.\n> *   The event includes food, music, parades, and costume contests, providing diverse content opportunities.\n> \n> **Most Relevant Points:**\n> \n> *   **Torradas as part of the Carnival:** Mentions of \"torradas\" (likely meaning grilled bread or toast) being offered for free at the Vara de Rey tent during the Carnival celebration.\n> *   **Dijous Llarder (Fat Thursday):** The beginning of Carnival is celebrated with communal gatherings, music, dance performances, children's workshops, and a large omelette.\n> *   **Mariol·los Tradition:** The unique tradition of creating costumes from everyday household items.\n> *   **Carnival Parade (Rúa):** A colorful parade with costumes, floats, music, and dance.\n> *   **Burial of the Sardine:** The traditional ending of the Carnival celebrations.\n> \n> **Instagram Post Plan:**\n> \n> 1.  **Post 1: (Image/Video - Carnival Parade)**\n>     *   Caption: \"Experience the vibrant Carnival of Ibiza! 🎉Parades, music, incredible costumes, and the unique 'mariol·los' tradition make this a must-see celebration. Don't miss the free \"torradas\" at Vara de Rey! #[carnival] #[ibiza] #[carnivalibiza] #torradas #[travel]\n> 2.  **Post 2: (Carousel Post - \"Mariol·los\" Costumes)**\n>     *   Image 1: Example of a \"mariol·los\" costume\n>     *   Image 2: People making \"mariol·los\" costumes\n>     *   Caption: \"Get creative with the 'mariol·los' tradition! ✨In Ibiza, Carnival costumes are made from everyday items. Show off your resourcefulness and join the fun! #[carnival] #[ibiza] #mariollos #[diycostume] #carnivalibiza\"\n> 3.  **Post 3: (Image/Video - Food)**\n>     *   Image: \"Torradas\" being prepared or served\n>     *   Caption: \"Fuel up for Carnival! 🔥Enjoy free \"torradas\" (grilled bread) and other delicious treats at the Vara de Rey tent in Ibiza. A taste of local flavor! #[carnival] #[ibiza] #torradas #[food] #[ibizafood] #carnivalibiza\"\n> 4.  **Post 4: (Story - Dijous Llarder)**\n>     *   Short video clips/images of Dijous Llarder celebrations (music, omelette, costumes)\n>     *   Text: \"Carnival in Ibiza kicks off with Dijous Llarder (Fat Thursday)! Music, food, and fun for everyone. #[carnival] #[ibiza] #dijousllarder #carnivalibiza\"\n> 5.  **Post 5: (Image - Burial of the Sardine)**\n>     *   Image: A picture of the Burial of the Sardine.\n>     *   Caption: \"The end of Carnival is near. The Burial of the Sardine marks the beginning of lent. #[carnival] #[ibiza] #BurialOfTheSardine #carnivalibiza\"\n> \n"
          },
          "metadata": {}
        },
        {
          "output_type": "stream",
          "name": "stdout",
          "text": [
            "✍️ Writing post draft...\n"
          ]
        },
        {
          "output_type": "display_data",
          "data": {
            "text/plain": [
              "'✍️ Post draft:\\n'"
            ],
            "application/vnd.google.colaboratory.intrinsic+json": {
              "type": "string"
            }
          },
          "metadata": {}
        },
        {
          "output_type": "display_data",
          "data": {
            "text/plain": [
              "<IPython.core.display.Markdown object>"
            ],
            "text/markdown": "> Okay, I will generate the draft Instagram posts based on the post plan:\n> \n> **Post 3: (Image/Video - Food)**\n> \n> \\[Imagine a vibrant photo or video of \"Torradas\" (grilled bread) being prepared on a grill or served with delicious toppings at the Vara de Rey tent in Ibiza]\n> \n> Fuel up for Carnival in Ibiza! 🔥🤤 Enjoy FREE \"torradas\" (crispy grilled bread) and other tasty treats at the Vara de Rey tent. It's a true taste of local flavor that will keep you energized for all the festivities! What's your favorite Carnival snack? Tell me in the comments! 👇 #[CarnivalIbiza] #[IbizaFood] #Torradas #[Carnival] #[Foodie]\n> \n"
          },
          "metadata": {}
        },
        {
          "output_type": "stream",
          "name": "stdout",
          "text": [
            "🔍 Reviewing post draft...\n"
          ]
        },
        {
          "output_type": "display_data",
          "data": {
            "text/plain": [
              "'🔍 Reviewed post:\\n'"
            ],
            "application/vnd.google.colaboratory.intrinsic+json": {
              "type": "string"
            }
          },
          "metadata": {}
        },
        {
          "output_type": "display_data",
          "data": {
            "text/plain": [
              "<IPython.core.display.Markdown object>"
            ],
            "text/markdown": "> The draft is great but needs some improvements.\n> \n> Here's what I suggest:\n> \n> *   **Clarity and Conciseness:** The text is good, but we can make it even more concise and engaging for the young audience.\n> *   **Hashtags:** The hashtags are relevant, but let's add some more specific and trending ones to increase visibility.\n> *   **Call to action:** It's good, but we can make it more interactive and specific.\n> *   **Emojis:** Let's add more emojis to make the post more appealing and fun.\n> \n> Here's the improved draft:\n> \n> **Post 3: (Image/Video - Food)**\n> \n> \\[Imagine a vibrant photo or video of \"Torradas\" (grilled bread) being prepared on a grill or served with delicious toppings at the Vara de Rey tent in Ibiza]\n> \n> Fuel up for Carnival in Ibiza with FREE \"torradas\"! 🔥🤤 Nothing beats crispy grilled bread to keep you energized for all the festivities at Vara de Rey tent. What toppings would you choose for your torrada? Share your creations in the comments! 👇 #[CarnivalIbiza] #[IbizaEats] #Torradas #[CarnivalVibes] #[StreetFood] #[FoodLovers] #[IbizaParty]\n"
          },
          "metadata": {}
        }
      ]
    }
  ]
}