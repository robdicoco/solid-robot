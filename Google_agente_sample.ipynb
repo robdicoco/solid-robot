{
  "nbformat": 4,
  "nbformat_minor": 0,
  "metadata": {
    "colab": {
      "provenance": [],
      "toc_visible": true,
      "include_colab_link": true
    },
    "kernelspec": {
      "name": "python3",
      "display_name": "Python 3"
    },
    "language_info": {
      "name": "python"
    }
  },
  "cells": [
    {
      "cell_type": "markdown",
      "metadata": {
        "id": "view-in-github",
        "colab_type": "text"
      },
      "source": [
        "<a href=\"https://colab.research.google.com/github/robdicoco/solid-robot/blob/main/Google_agente_sample.ipynb\" target=\"_parent\"><img src=\"https://colab.research.google.com/assets/colab-badge.svg\" alt=\"Open In Colab\"/></a>"
      ]
    },
    {
      "cell_type": "markdown",
      "source": [],
      "metadata": {
        "id": "x5q88iyGwen_"
      }
    },
    {
      "cell_type": "code",
      "source": [
        "# Install Google GenAI library\n",
        "%pip -q install google-genai\n",
        "\n"
      ],
      "metadata": {
        "id": "UCCbECexLk_h"
      },
      "execution_count": 1,
      "outputs": []
    },
    {
      "cell_type": "code",
      "source": [
        "# Configure the Google Gemini API Key\n",
        "\n",
        "import os\n",
        "from google.colab import userdata\n",
        "\n",
        "os.environ[\"GOOGLE_API_KEY\"] = userdata.get('Gemini_API')"
      ],
      "metadata": {
        "id": "NfCqHo1tLk8P"
      },
      "execution_count": 2,
      "outputs": []
    },
    {
      "cell_type": "code",
      "source": [
        "# Configure the Gemini SDK client\n",
        "\n",
        "from google import genai\n",
        "\n",
        "client = genai.Client()\n",
        "\n",
        "MODEL_ID = \"gemini-2.0-flash\""
      ],
      "metadata": {
        "id": "bV4w0H5TLk5g"
      },
      "execution_count": 3,
      "outputs": []
    },
    {
      "cell_type": "code",
      "source": [
        "# Ask Gemini for information more recent than its knowledge base\n",
        "\n",
        "from IPython.display import HTML, Markdown\n",
        "\n",
        "#  Ask the model about the next AI immersion ###\n",
        "response = client.models.generate_content(\n",
        "    model=MODEL_ID,\n",
        "    contents='When will be the next imersion of Google Gemini from Alura?'\n",
        ")\n",
        "\n",
        "\n",
        "# Display the answer on the screen\n",
        "display(Markdown(f\"Response :\\n {response.text}\"))"
      ],
      "metadata": {
        "id": "HwVP7Xi34Zuw",
        "outputId": "0a069417-13dc-4d89-b609-7c0110e09d40",
        "colab": {
          "base_uri": "https://localhost:8080/",
          "height": 169
        }
      },
      "execution_count": 4,
      "outputs": [
        {
          "output_type": "display_data",
          "data": {
            "text/plain": [
              "<IPython.core.display.Markdown object>"
            ],
            "text/markdown": "Response :\n I understand you're asking about the next \"Imersão\" (Immersion) event focused on Google Gemini from Alura.\n\nTo find the exact dates for the next Imersão Google Gemini from Alura, it's best to check the following resources:\n\n*   **Alura's official website:** Go to [alura.com.br](https://www.alura.com.br) and look for upcoming events, courses, or \"Imersão\" programs.\n*   **Alura's social media channels:** Follow Alura on platforms like YouTube, Instagram, Twitter, and LinkedIn. They often announce events and new courses there.\n*   **Alura's email newsletter:** If you're subscribed to Alura's newsletter, you'll likely receive updates about upcoming Imersões.\n\nBy checking these sources, you'll get the most accurate and up-to-date information about Alura's events related to Google Gemini."
          },
          "metadata": {}
        }
      ]
    },
    {
      "cell_type": "code",
      "source": [
        "# Ask Gemini for information using Google Search as context\n",
        "\n",
        "\n",
        "response = client.models.generate_content(\n",
        "    model=MODEL_ID,\n",
        "    contents='When will be the next imersion of Google Gemini from Alura?',\n",
        "    config = {\"tools\": [{\"google_search\": {}}]}\n",
        ")\n",
        "\n",
        "# Display the response\n",
        "display(Markdown(f\"Response:\\n {response.text}\"))"
      ],
      "metadata": {
        "id": "yXaZd7iZ4ftw",
        "outputId": "2aad2918-b635-48b0-ee96-f2dd016b2be3",
        "colab": {
          "base_uri": "https://localhost:8080/",
          "height": 64
        }
      },
      "execution_count": 5,
      "outputs": [
        {
          "output_type": "display_data",
          "data": {
            "text/plain": [
              "<IPython.core.display.Markdown object>"
            ],
            "text/markdown": "Response:\n The next Alura and Google's \"AI Immersion\" with Google Gemini is scheduled to take place between May 12 and May 16, 2025. Registration is open until May 11, 2025. This initiative is 100% free and offers a certificate of participation upon completion.\n"
          },
          "metadata": {}
        }
      ]
    },
    {
      "cell_type": "code",
      "source": [
        "# Display the search query\n",
        "print(f\"Search performed: {response.candidates[0].grounding_metadata.web_search_queries}\")\n",
        "# Display the URLs used as basis for the response\n",
        "print(f\"Pages used in the response: {', '.join([site.web.title for site in response.candidates[0].grounding_metadata.grounding_chunks])}\")\n",
        "print()\n",
        "display(HTML(response.candidates[0].grounding_metadata.search_entry_point.rendered_content))"
      ],
      "metadata": {
        "id": "xHSNlTd84heJ",
        "outputId": "cf49d040-014f-4ec1-f4c0-436c30a28e6e",
        "colab": {
          "base_uri": "https://localhost:8080/",
          "height": 117
        }
      },
      "execution_count": 6,
      "outputs": [
        {
          "output_type": "stream",
          "name": "stdout",
          "text": [
            "Search performed: ['Alura Google Gemini immersion dates']\n",
            "Pages used in the response: alura.com.br, clickpetroleoegas.com.br, clickpetroleoegas.com.br\n",
            "\n"
          ]
        },
        {
          "output_type": "display_data",
          "data": {
            "text/plain": [
              "<IPython.core.display.HTML object>"
            ],
            "text/html": [
              "<style>\n",
              ".container {\n",
              "  align-items: center;\n",
              "  border-radius: 8px;\n",
              "  display: flex;\n",
              "  font-family: Google Sans, Roboto, sans-serif;\n",
              "  font-size: 14px;\n",
              "  line-height: 20px;\n",
              "  padding: 8px 12px;\n",
              "}\n",
              ".chip {\n",
              "  display: inline-block;\n",
              "  border: solid 1px;\n",
              "  border-radius: 16px;\n",
              "  min-width: 14px;\n",
              "  padding: 5px 16px;\n",
              "  text-align: center;\n",
              "  user-select: none;\n",
              "  margin: 0 8px;\n",
              "  -webkit-tap-highlight-color: transparent;\n",
              "}\n",
              ".carousel {\n",
              "  overflow: auto;\n",
              "  scrollbar-width: none;\n",
              "  white-space: nowrap;\n",
              "  margin-right: -12px;\n",
              "}\n",
              ".headline {\n",
              "  display: flex;\n",
              "  margin-right: 4px;\n",
              "}\n",
              ".gradient-container {\n",
              "  position: relative;\n",
              "}\n",
              ".gradient {\n",
              "  position: absolute;\n",
              "  transform: translate(3px, -9px);\n",
              "  height: 36px;\n",
              "  width: 9px;\n",
              "}\n",
              "@media (prefers-color-scheme: light) {\n",
              "  .container {\n",
              "    background-color: #fafafa;\n",
              "    box-shadow: 0 0 0 1px #0000000f;\n",
              "  }\n",
              "  .headline-label {\n",
              "    color: #1f1f1f;\n",
              "  }\n",
              "  .chip {\n",
              "    background-color: #ffffff;\n",
              "    border-color: #d2d2d2;\n",
              "    color: #5e5e5e;\n",
              "    text-decoration: none;\n",
              "  }\n",
              "  .chip:hover {\n",
              "    background-color: #f2f2f2;\n",
              "  }\n",
              "  .chip:focus {\n",
              "    background-color: #f2f2f2;\n",
              "  }\n",
              "  .chip:active {\n",
              "    background-color: #d8d8d8;\n",
              "    border-color: #b6b6b6;\n",
              "  }\n",
              "  .logo-dark {\n",
              "    display: none;\n",
              "  }\n",
              "  .gradient {\n",
              "    background: linear-gradient(90deg, #fafafa 15%, #fafafa00 100%);\n",
              "  }\n",
              "}\n",
              "@media (prefers-color-scheme: dark) {\n",
              "  .container {\n",
              "    background-color: #1f1f1f;\n",
              "    box-shadow: 0 0 0 1px #ffffff26;\n",
              "  }\n",
              "  .headline-label {\n",
              "    color: #fff;\n",
              "  }\n",
              "  .chip {\n",
              "    background-color: #2c2c2c;\n",
              "    border-color: #3c4043;\n",
              "    color: #fff;\n",
              "    text-decoration: none;\n",
              "  }\n",
              "  .chip:hover {\n",
              "    background-color: #353536;\n",
              "  }\n",
              "  .chip:focus {\n",
              "    background-color: #353536;\n",
              "  }\n",
              "  .chip:active {\n",
              "    background-color: #464849;\n",
              "    border-color: #53575b;\n",
              "  }\n",
              "  .logo-light {\n",
              "    display: none;\n",
              "  }\n",
              "  .gradient {\n",
              "    background: linear-gradient(90deg, #1f1f1f 15%, #1f1f1f00 100%);\n",
              "  }\n",
              "}\n",
              "</style>\n",
              "<div class=\"container\">\n",
              "  <div class=\"headline\">\n",
              "    <svg class=\"logo-light\" width=\"18\" height=\"18\" viewBox=\"9 9 35 35\" fill=\"none\" xmlns=\"http://www.w3.org/2000/svg\">\n",
              "      <path fill-rule=\"evenodd\" clip-rule=\"evenodd\" d=\"M42.8622 27.0064C42.8622 25.7839 42.7525 24.6084 42.5487 23.4799H26.3109V30.1568H35.5897C35.1821 32.3041 33.9596 34.1222 32.1258 35.3448V39.6864H37.7213C40.9814 36.677 42.8622 32.2571 42.8622 27.0064V27.0064Z\" fill=\"#4285F4\"/>\n",
              "      <path fill-rule=\"evenodd\" clip-rule=\"evenodd\" d=\"M26.3109 43.8555C30.9659 43.8555 34.8687 42.3195 37.7213 39.6863L32.1258 35.3447C30.5898 36.3792 28.6306 37.0061 26.3109 37.0061C21.8282 37.0061 18.0195 33.9811 16.6559 29.906H10.9194V34.3573C13.7563 39.9841 19.5712 43.8555 26.3109 43.8555V43.8555Z\" fill=\"#34A853\"/>\n",
              "      <path fill-rule=\"evenodd\" clip-rule=\"evenodd\" d=\"M16.6559 29.8904C16.3111 28.8559 16.1074 27.7588 16.1074 26.6146C16.1074 25.4704 16.3111 24.3733 16.6559 23.3388V18.8875H10.9194C9.74388 21.2072 9.06992 23.8247 9.06992 26.6146C9.06992 29.4045 9.74388 32.022 10.9194 34.3417L15.3864 30.8621L16.6559 29.8904V29.8904Z\" fill=\"#FBBC05\"/>\n",
              "      <path fill-rule=\"evenodd\" clip-rule=\"evenodd\" d=\"M26.3109 16.2386C28.85 16.2386 31.107 17.1164 32.9095 18.8091L37.8466 13.8719C34.853 11.082 30.9659 9.3736 26.3109 9.3736C19.5712 9.3736 13.7563 13.245 10.9194 18.8875L16.6559 23.3388C18.0195 19.2636 21.8282 16.2386 26.3109 16.2386V16.2386Z\" fill=\"#EA4335\"/>\n",
              "    </svg>\n",
              "    <svg class=\"logo-dark\" width=\"18\" height=\"18\" viewBox=\"0 0 48 48\" xmlns=\"http://www.w3.org/2000/svg\">\n",
              "      <circle cx=\"24\" cy=\"23\" fill=\"#FFF\" r=\"22\"/>\n",
              "      <path d=\"M33.76 34.26c2.75-2.56 4.49-6.37 4.49-11.26 0-.89-.08-1.84-.29-3H24.01v5.99h8.03c-.4 2.02-1.5 3.56-3.07 4.56v.75l3.91 2.97h.88z\" fill=\"#4285F4\"/>\n",
              "      <path d=\"M15.58 25.77A8.845 8.845 0 0 0 24 31.86c1.92 0 3.62-.46 4.97-1.31l4.79 3.71C31.14 36.7 27.65 38 24 38c-5.93 0-11.01-3.4-13.45-8.36l.17-1.01 4.06-2.85h.8z\" fill=\"#34A853\"/>\n",
              "      <path d=\"M15.59 20.21a8.864 8.864 0 0 0 0 5.58l-5.03 3.86c-.98-2-1.53-4.25-1.53-6.64 0-2.39.55-4.64 1.53-6.64l1-.22 3.81 2.98.22 1.08z\" fill=\"#FBBC05\"/>\n",
              "      <path d=\"M24 14.14c2.11 0 4.02.75 5.52 1.98l4.36-4.36C31.22 9.43 27.81 8 24 8c-5.93 0-11.01 3.4-13.45 8.36l5.03 3.85A8.86 8.86 0 0 1 24 14.14z\" fill=\"#EA4335\"/>\n",
              "    </svg>\n",
              "    <div class=\"gradient-container\"><div class=\"gradient\"></div></div>\n",
              "  </div>\n",
              "  <div class=\"carousel\">\n",
              "    <a class=\"chip\" href=\"https://vertexaisearch.cloud.google.com/grounding-api-redirect/AbF9wXHkZBoKE6UsRA5XSl7jc21D0Hn1fvUKb5mJ0QMJUijw8zHG-ZTYRb-DmXguCZK0_4j5K5_Kk00YRnS0bSMI96_q-p1IQL8duExO-M1VcaCvvEy4JuX1BE35FWL4Zsu3974LNofCazETXvNtaa-QohmVB2iXIePtSIJdJMGp-I9virMcwEVlHwlsmLAjGV_AuToC1gt9MMnwX6aTOficrSzb8vhdC5TF\">Alura Google Gemini immersion dates</a>\n",
              "  </div>\n",
              "</div>\n"
            ]
          },
          "metadata": {}
        }
      ]
    },
    {
      "cell_type": "code",
      "source": [
        "# Install Google ADK Agents Framework #\n",
        "%pip install -q google-adk\n"
      ],
      "metadata": {
        "id": "hvZ3UnPI4jhJ",
        "outputId": "f6b428f9-c290-422c-8695-8c7c7d946fd7",
        "colab": {
          "base_uri": "https://localhost:8080/"
        }
      },
      "execution_count": 7,
      "outputs": [
        {
          "output_type": "stream",
          "name": "stdout",
          "text": [
            "\u001b[?25l   \u001b[90m━━━━━━━━━━━━━━━━━━━━━━━━━━━━━━━━━━━━━━━━\u001b[0m \u001b[32m0.0/1.2 MB\u001b[0m \u001b[31m?\u001b[0m eta \u001b[36m-:--:--\u001b[0m\r\u001b[2K   \u001b[91m━━━━━━━━━━━\u001b[0m\u001b[91m╸\u001b[0m\u001b[90m━━━━━━━━━━━━━━━━━━━━━━━━━━━━\u001b[0m \u001b[32m0.3/1.2 MB\u001b[0m \u001b[31m10.2 MB/s\u001b[0m eta \u001b[36m0:00:01\u001b[0m\r\u001b[2K   \u001b[91m━━━━━━━━━━━━━━━━━━━━━━━━━━━━━━━━━━━━━━━\u001b[0m\u001b[91m╸\u001b[0m \u001b[32m1.2/1.2 MB\u001b[0m \u001b[31m19.4 MB/s\u001b[0m eta \u001b[36m0:00:01\u001b[0m\r\u001b[2K   \u001b[90m━━━━━━━━━━━━━━━━━━━━━━━━━━━━━━━━━━━━━━━━\u001b[0m \u001b[32m1.2/1.2 MB\u001b[0m \u001b[31m15.9 MB/s\u001b[0m eta \u001b[36m0:00:00\u001b[0m\n",
            "\u001b[?25h\u001b[?25l   \u001b[90m━━━━━━━━━━━━━━━━━━━━━━━━━━━━━━━━━━━━━━━━\u001b[0m \u001b[32m0.0/232.1 kB\u001b[0m \u001b[31m?\u001b[0m eta \u001b[36m-:--:--\u001b[0m\r\u001b[2K   \u001b[90m━━━━━━━━━━━━━━━━━━━━━━━━━━━━━━━━━━━━━━━━\u001b[0m \u001b[32m232.1/232.1 kB\u001b[0m \u001b[31m20.6 MB/s\u001b[0m eta \u001b[36m0:00:00\u001b[0m\n",
            "\u001b[?25h\u001b[?25l   \u001b[90m━━━━━━━━━━━━━━━━━━━━━━━━━━━━━━━━━━━━━━━━\u001b[0m \u001b[32m0.0/95.2 kB\u001b[0m \u001b[31m?\u001b[0m eta \u001b[36m-:--:--\u001b[0m\r\u001b[2K   \u001b[90m━━━━━━━━━━━━━━━━━━━━━━━━━━━━━━━━━━━━━━━━\u001b[0m \u001b[32m95.2/95.2 kB\u001b[0m \u001b[31m9.7 MB/s\u001b[0m eta \u001b[36m0:00:00\u001b[0m\n",
            "\u001b[?25h\u001b[?25l   \u001b[90m━━━━━━━━━━━━━━━━━━━━━━━━━━━━━━━━━━━━━━━━\u001b[0m \u001b[32m0.0/217.1 kB\u001b[0m \u001b[31m?\u001b[0m eta \u001b[36m-:--:--\u001b[0m\r\u001b[2K   \u001b[90m━━━━━━━━━━━━━━━━━━━━━━━━━━━━━━━━━━━━━━━━\u001b[0m \u001b[32m217.1/217.1 kB\u001b[0m \u001b[31m21.0 MB/s\u001b[0m eta \u001b[36m0:00:00\u001b[0m\n",
            "\u001b[?25h\u001b[?25l   \u001b[90m━━━━━━━━━━━━━━━━━━━━━━━━━━━━━━━━━━━━━━━━\u001b[0m \u001b[32m0.0/334.1 kB\u001b[0m \u001b[31m?\u001b[0m eta \u001b[36m-:--:--\u001b[0m\r\u001b[2K   \u001b[90m━━━━━━━━━━━━━━━━━━━━━━━━━━━━━━━━━━━━━━━━\u001b[0m \u001b[32m334.1/334.1 kB\u001b[0m \u001b[31m29.9 MB/s\u001b[0m eta \u001b[36m0:00:00\u001b[0m\n",
            "\u001b[2K   \u001b[90m━━━━━━━━━━━━━━━━━━━━━━━━━━━━━━━━━━━━━━━━\u001b[0m \u001b[32m125.1/125.1 kB\u001b[0m \u001b[31m13.7 MB/s\u001b[0m eta \u001b[36m0:00:00\u001b[0m\n",
            "\u001b[2K   \u001b[90m━━━━━━━━━━━━━━━━━━━━━━━━━━━━━━━━━━━━━━━━\u001b[0m \u001b[32m65.8/65.8 kB\u001b[0m \u001b[31m6.6 MB/s\u001b[0m eta \u001b[36m0:00:00\u001b[0m\n",
            "\u001b[2K   \u001b[90m━━━━━━━━━━━━━━━━━━━━━━━━━━━━━━━━━━━━━━━━\u001b[0m \u001b[32m119.0/119.0 kB\u001b[0m \u001b[31m12.6 MB/s\u001b[0m eta \u001b[36m0:00:00\u001b[0m\n",
            "\u001b[2K   \u001b[90m━━━━━━━━━━━━━━━━━━━━━━━━━━━━━━━━━━━━━━━━\u001b[0m \u001b[32m194.9/194.9 kB\u001b[0m \u001b[31m18.7 MB/s\u001b[0m eta \u001b[36m0:00:00\u001b[0m\n",
            "\u001b[2K   \u001b[90m━━━━━━━━━━━━━━━━━━━━━━━━━━━━━━━━━━━━━━━━\u001b[0m \u001b[32m62.5/62.5 kB\u001b[0m \u001b[31m5.9 MB/s\u001b[0m eta \u001b[36m0:00:00\u001b[0m\n",
            "\u001b[2K   \u001b[90m━━━━━━━━━━━━━━━━━━━━━━━━━━━━━━━━━━━━━━━━\u001b[0m \u001b[32m103.3/103.3 kB\u001b[0m \u001b[31m12.0 MB/s\u001b[0m eta \u001b[36m0:00:00\u001b[0m\n",
            "\u001b[2K   \u001b[90m━━━━━━━━━━━━━━━━━━━━━━━━━━━━━━━━━━━━━━━━\u001b[0m \u001b[32m44.4/44.4 kB\u001b[0m \u001b[31m4.7 MB/s\u001b[0m eta \u001b[36m0:00:00\u001b[0m\n",
            "\u001b[2K   \u001b[90m━━━━━━━━━━━━━━━━━━━━━━━━━━━━━━━━━━━━━━━━\u001b[0m \u001b[32m72.0/72.0 kB\u001b[0m \u001b[31m7.6 MB/s\u001b[0m eta \u001b[36m0:00:00\u001b[0m\n",
            "\u001b[?25h"
          ]
        }
      ]
    },
    {
      "cell_type": "code",
      "execution_count": 8,
      "metadata": {
        "id": "aePV2bdfDeoW"
      },
      "outputs": [],
      "source": [
        "from google.adk.agents import Agent\n",
        "from google.adk.runners import Runner\n",
        "from google.adk.sessions import InMemorySessionService\n",
        "from google.adk.tools import google_search\n",
        "from google.genai import types  # To create content (Content and Part)\n",
        "from datetime import date\n",
        "import textwrap # To better format text output\n",
        "from IPython.display import display, Markdown  # To make HTTP requests\n",
        "import warnings\n",
        "\n",
        "warnings.filterwarnings(\"ignore\")"
      ]
    },
    {
      "cell_type": "code",
      "source": [
        "# Helper function that sends a message to an agent via Runner and returns the final response\n",
        "def call_agent(agent: Agent, message_text: str) -> str:\n",
        "    # Creates an in-memory session service\n",
        "    session_service = InMemorySessionService()\n",
        "    # Creates a new session (you can customize IDs as needed)\n",
        "    session = session_service.create_session(app_name=agent.name, user_id=\"user1\", session_id=\"session1\")\n",
        "    # Creates a Runner for the agent\n",
        "    runner = Runner(agent=agent, app_name=agent.name, session_service=session_service)\n",
        "    # Creates the input message content\n",
        "    content = types.Content(role=\"user\", parts=[types.Part(text=message_text)])\n",
        "\n",
        "    final_response = \"\"\n",
        "    # Asynchronously iterates through the events returned during agent execution\n",
        "    for event in runner.run(user_id=\"user1\", session_id=\"session1\", new_message=content):\n",
        "        if event.is_final_response():\n",
        "          for part in event.content.parts:\n",
        "            if part.text is not None:\n",
        "              final_response += part.text\n",
        "              final_response += \"\\n\"\n",
        "    return final_response"
      ],
      "metadata": {
        "id": "_xP4lWhsS5ko"
      },
      "execution_count": 9,
      "outputs": []
    },
    {
      "cell_type": "code",
      "source": [
        "# Helper function to display formatted text in Markdown in Colab\n",
        "def to_markdown(text):\n",
        "  text = text.replace('•', '  *')\n",
        "  return Markdown(textwrap.indent(text, '> ', predicate=lambda _: True))"
      ],
      "metadata": {
        "id": "8dosiodaxfFR"
      },
      "execution_count": 10,
      "outputs": []
    },
    {
      "cell_type": "code",
      "source": [
        "##########################################\n",
        "# --- Agent 1: News Finder           --- #\n",
        "##########################################\n",
        "def agent_news_finder(topic, today_date):\n",
        "    news_finder = Agent(\n",
        "        name=\"agent_news_finder\",\n",
        "        model=\"gemini-2.0-flash\",\n",
        "        instruction=\"\"\"\n",
        "\n",
        "        \"\"\",\n",
        "        description=\"Agent that searches for news on a given topic.\",\n",
        "        tools=[google_search]\n",
        "    )\n",
        "\n",
        "    input_agent_news_finder = f\"Topic: {topic}\\nCurrent date: {today_date}\"\n",
        "    # Execute the agent\n",
        "    news_found = call_agent(news_finder, input_agent_news_finder)\n",
        "    return news_found\n",
        "\n"
      ],
      "metadata": {
        "id": "o8bqIfi_DyH8"
      },
      "execution_count": 11,
      "outputs": []
    },
    {
      "cell_type": "code",
      "source": [
        "# Helper function that sends a message to an agent via Runner and returns the final response\n",
        "def call_agent(agent: Agent, message_text: str) -> str:\n",
        "    # Creates an in-memory session service\n",
        "    session_service = InMemorySessionService()\n",
        "    # Creates a new session (you can customize IDs as needed)\n",
        "    session = session_service.create_session(app_name=agent.name, user_id=\"user1\", session_id=\"session1\")\n",
        "    # Creates a Runner for the agent\n",
        "    runner = Runner(agent=agent, app_name=agent.name, session_service=session_service)\n",
        "    # Creates the input message content\n",
        "    content = types.Content(role=\"user\", parts=[types.Part(text=message_text)])\n",
        "\n",
        "    final_response = \"\"\n",
        "    # Asynchronously iterates through the events returned during agent execution\n",
        "    for event in runner.run(user_id=\"user1\", session_id=\"session1\", new_message=content):\n",
        "        if event.is_final_response():\n",
        "          for part in event.content.parts:\n",
        "            if part.text is not None:\n",
        "              final_response += part.text\n",
        "              final_response += \"\\n\"\n",
        "    return final_response"
      ],
      "metadata": {
        "id": "n0aPF_6XsBEJ"
      },
      "execution_count": null,
      "outputs": []
    },
    {
      "cell_type": "code",
      "source": [
        "# Helper function to display formatted text in Markdown in Colab\n",
        "def to_markdown(text):\n",
        "  text = text.replace('•', '  *')\n",
        "  return Markdown(textwrap.indent(text, '> ', predicate=lambda _: True))"
      ],
      "metadata": {
        "id": "PKsvl-FRsBEK"
      },
      "execution_count": null,
      "outputs": []
    },
    {
      "cell_type": "code",
      "source": [
        "##########################################\n",
        "# --- Agent 1: News Finder           --- #\n",
        "##########################################\n",
        "def agent_news_finder(topic, today_date):\n",
        "    news_finder = Agent(\n",
        "        name=\"agent_news_finder\",\n",
        "        model=\"gemini-2.0-flash\",\n",
        "        instruction=\"\"\"\n",
        "          You are a news research expert.\n",
        "          Your task is to find up to three of the most recent and highly relevant news articles on the given topic using (google_search).\n",
        "          Focus on finding reputable news sources published within the last week.\n",
        "          If the initial topic yields few results, try one closely related alternative.\n",
        "          Present the findings as a bulleted list with the title and a brief summary of each article.\n",
        "        \"\"\",\n",
        "        description=\"Agent that searches for news on a given topic.\",\n",
        "        tools=[google_search]\n",
        "    )\n",
        "\n",
        "    input_agent_news_finder = f\"Topic: {topic}\\nCurrent date: {today_date}\"\n",
        "    # Execute the agent\n",
        "    news_found = call_agent(news_finder, input_agent_news_finder)\n",
        "    return news_found\n",
        "\n"
      ],
      "metadata": {
        "id": "BxuPTVA-sBEK"
      },
      "execution_count": 16,
      "outputs": []
    },
    {
      "cell_type": "code",
      "source": [
        "################################################\n",
        "# --- Agent 2: Post Planner                --- #\n",
        "################################################\n",
        "def agent_post_planner(topic, news_found):\n",
        "    agent_planner = Agent(\n",
        "        name=\"agent_post_planner\",\n",
        "        model=\"gemini-2.0-flash\",\n",
        "        instruction=\"\"\"\n",
        "            You are a post planner expert in social network.\n",
        "            Your task is to create a post plan for Instagram based on the news found.\n",
        "            You can use (google_search) to cleate a plan about the most important topics.\n",
        "            You can use (google_search) for further refine the post on the most relevant tópics\n",
        "           in the end, you will choose the most relevant topic among all of them, based on your\n",
        "           research and return to this topic, its most relevant points, and the plan with the\n",
        "           subjects to be addressed in the post that will be written there later.\n",
        "        \"\"\",\n",
        "        description=\"Agent that plans post\",\n",
        "        tools=[google_search]\n",
        "    )\n",
        "\n",
        "\n",
        "    input_agent_planner = f\"Topic: {topic}\\nNews found: {news_found}\"\n",
        "    # Execute the agent\n",
        "    post_plan = call_agent(agent_planner, input_agent_planner)\n",
        "    return post_plan\n"
      ],
      "metadata": {
        "id": "y3VO1uo5_ghO"
      },
      "execution_count": 12,
      "outputs": []
    },
    {
      "cell_type": "code",
      "source": [
        "\n",
        "######################################\n",
        "# --- Agent 3: Post Writer       --- #\n",
        "######################################\n",
        "def agent_writer(topic, post_plan):\n",
        "    writer = Agent(\n",
        "        name=\"agent_writer\",\n",
        "        model=\"gemini-2.0-flash\",\n",
        "        instruction=\"\"\"\n",
        "            You are a Creative Writer specializing in creating viral posts for social media.\n",
        "            You write posts for RobDC a Web3 developer, with MSc in Biomedical Engineering, BSc. in Systems Analysis, Mechatronics Tech.\n",
        "            Use the theme provided in the post plan and the most relevant points provided and, based on that,\n",
        "            write a draft Instagram post on the indicated topic.\n",
        "            The post should be engaging, informative, use simple language, and include 2 to 5 hashtags at the end.\n",
        "            \"\"\",\n",
        "        description=\"Agent writer of engaging posts for Instagram\"\n",
        "    )\n",
        "\n",
        "    input_agent_writer = f\"Topic: {topic}\\nPost plan: {post_plan}\"\n",
        "    # Execute the agent\n",
        "    draft = call_agent(writer, input_agent_writer)\n",
        "    return draft\n"
      ],
      "metadata": {
        "id": "uOqlg2TRLVh1"
      },
      "execution_count": 13,
      "outputs": []
    },
    {
      "cell_type": "code",
      "source": [
        "##########################################\n",
        "# --- Agent 4:     Quality Reviewer --- #\n",
        "##########################################\n",
        "def agent_reviewer(topic, draft_information):\n",
        "    reviewer = Agent(\n",
        "        name=\"agent_reviewer\",\n",
        "        model=\"gemini-2.0-flash\",\n",
        "        instruction=\"\"\"\n",
        "            You are a meticulous Content Editor and Reviewer, specializing in social media posts, with a focus on Instagram.\n",
        "            Since you have a young audience, between 18 and 30 years old, use an appropriate writing tone.\n",
        "            Review the Instagram post draft below on the indicated topic, checking for clarity, conciseness, correctness, and tone.\n",
        "            If the draft is good, reply only 'The draft is great and ready to publish!'.\n",
        "            If there are problems, point them out and suggest improvements.\n",
        "            \"\"\",\n",
        "        description=\"Agent reviewer of social media posts\"\n",
        "    )\n",
        "\n",
        "    input_agent_reviewer = f\"Topic: {topic}\\nDraft: {draft_information}\"\n",
        "    # Execute the agent\n",
        "    reviewed_text = call_agent(reviewer, input_agent_reviewer)\n",
        "    return reviewed_text\n",
        ""
      ],
      "metadata": {
        "id": "_aTb1SdkLeT6"
      },
      "execution_count": 14,
      "outputs": []
    },
    {
      "cell_type": "code",
      "source": [
        "today_date = date.today().strftime(\"%d/%m/%Y\")\n",
        "\n",
        "print(\"🚀 Starting the Instagram Post Creation System with 4 Agents 🚀🚀🚀\")\n",
        "\n",
        "# --- Get Topic from User ---\n",
        "topic = input(\"❓ Please enter the TOPIC you want to create the trend post about: \")\n",
        "\n",
        "# Insert agent system logic ################################################\n",
        "\n",
        "if not topic:\n",
        "    print(\"❌ Topic cannot be empty. Please try again.\")\n",
        "else:\n",
        "    print(f\"🔍 Searching for news on the topic: {topic}...\")\n",
        "    news_found = agent_news_finder(topic, today_date)\n",
        "    print(\"📝 News found:\\n\", to_markdown(news_found))\n",
        "\n",
        "    # print(\"📋 Creating post plan...\")\n",
        "    # post_plan = agent_post_planner(topic, news_found)\n",
        "    # print(\"📋 Post plan:\\n\", to_markdown(post_plan))\n",
        "\n",
        "    # print(\"✍️ Writing post draft...\")\n",
        "    # draft = agent_writer(topic, post_plan)\n",
        "\n",
        "    # print(\"🔍 Reviewing post draft...\")\n",
        "    # reviewed_text = agent_reviewer(topic, draft)\n",
        "    # print(\"🔍 Reviewed post:\\n\", to_markdown(reviewed_text))\n"
      ],
      "metadata": {
        "id": "630ummxz4myx",
        "outputId": "c2d9e70d-12cb-4a41-d8fd-220516f99abe",
        "colab": {
          "base_uri": "https://localhost:8080/"
        }
      },
      "execution_count": 17,
      "outputs": [
        {
          "output_type": "stream",
          "name": "stdout",
          "text": [
            "🚀 Starting the Instagram Post Creation System with 4 Agents 🚀🚀🚀\n",
            "❓ Please enter the TOPIC you want to create the trend post about: batata\n",
            "🔍 Searching for news on the topic: batata...\n",
            "📝 News found:\n",
            " <IPython.core.display.Markdown object>\n"
          ]
        }
      ]
    }
  ]
}